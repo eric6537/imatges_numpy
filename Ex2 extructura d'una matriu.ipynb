{
 "cells": [
  {
   "cell_type": "markdown",
   "metadata": {},
   "source": [
    "### Exercici 1"
   ]
  },
  {
   "cell_type": "code",
   "execution_count": 20,
   "metadata": {},
   "outputs": [
    {
     "name": "stdout",
     "output_type": "stream",
     "text": [
      "[34 99 33 21 62  5 53 61] int64\n",
      "Dimensió: 1\n",
      "Forma: (8,)\n"
     ]
    }
   ],
   "source": [
    "import numpy as np\n",
    "from numpy import random\n",
    "\n",
    "matriu = np.array(random.randint(100, size=(8)), dtype = \"i8\")\n",
    "print(matriu, matriu.dtype)\n",
    "print(\"Dimensió:\", matriu.ndim)\n",
    "print(\"Forma:\", matriu.shape)"
   ]
  },
  {
   "cell_type": "markdown",
   "metadata": {},
   "source": [
    "### Exercici 2"
   ]
  },
  {
   "cell_type": "code",
   "execution_count": 22,
   "metadata": {},
   "outputs": [
    {
     "name": "stdout",
     "output_type": "stream",
     "text": [
      "46.0\n"
     ]
    }
   ],
   "source": [
    "sumatori = 0\n",
    "for i in matriu:\n",
    "    sumatori += i\n",
    "mitja = sumatori/len(matriu)\n",
    "print(mitja)"
   ]
  },
  {
   "cell_type": "markdown",
   "metadata": {},
   "source": [
    "### Exercici 3"
   ]
  },
  {
   "cell_type": "code",
   "execution_count": 34,
   "metadata": {},
   "outputs": [
    {
     "name": "stdout",
     "output_type": "stream",
     "text": [
      "[[43 12  3 73 16]\n",
      " [29 81 44 60 54]\n",
      " [ 0 57 63 92 78]\n",
      " [18 11 39 50 34]\n",
      " [90 77 28 74 14]]\n"
     ]
    }
   ],
   "source": [
    "x=random.randint(100, size=(5,5))\n",
    "print(x)"
   ]
  },
  {
   "cell_type": "code",
   "execution_count": 32,
   "metadata": {},
   "outputs": [
    {
     "name": "stdout",
     "output_type": "stream",
     "text": [
      "Valor màxim de la matriu: 99\n",
      "Valor màxim de l'eix 0: [77 90 84 99 98]\n",
      "Valor màxim de l'eix 1: [99 98 73 81 90]\n"
     ]
    }
   ],
   "source": [
    "maxim = 0\n",
    "for i in x:\n",
    "    for j in i:\n",
    "        if j>maxim:\n",
    "            maxim=j\n",
    "print(\"Valor màxim de la matriu:\",maxim)\n",
    "\n",
    "maxEix0 = np.amax(x,0)\n",
    "print(\"Valor màxim de l'eix 0:\",maxEix0)\n",
    "maxEix1 = np.amax(x,1)\n",
    "print(\"Valor màxim de l'eix 1:\",maxEix1)"
   ]
  }
 ],
 "metadata": {
  "kernelspec": {
   "display_name": "Python 3",
   "language": "python",
   "name": "python3"
  },
  "language_info": {
   "codemirror_mode": {
    "name": "ipython",
    "version": 3
   },
   "file_extension": ".py",
   "mimetype": "text/x-python",
   "name": "python",
   "nbconvert_exporter": "python",
   "pygments_lexer": "ipython3",
   "version": "3.8.3"
  }
 },
 "nbformat": 4,
 "nbformat_minor": 4
}
